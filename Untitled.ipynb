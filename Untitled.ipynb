{
 "cells": [
  {
   "cell_type": "code",
   "execution_count": 2,
   "metadata": {},
   "outputs": [],
   "source": [
    "import pandas as pd\n",
    "import os"
   ]
  },
  {
   "cell_type": "code",
   "execution_count": 6,
   "metadata": {},
   "outputs": [],
   "source": [
    "folder_path = os.path.join('bases_import')\n",
    "tipos_relatorios = [\n",
    "    'congl',\n",
    "    'inst_individuais',\n",
    "    'prud'\n",
    "]"
   ]
  },
  {
   "cell_type": "code",
   "execution_count": 17,
   "metadata": {},
   "outputs": [
    {
     "name": "stdout",
     "output_type": "stream",
     "text": [
      "congl\n",
      "bases_import\\congl_financeiros_ativo_import.csv\n",
      "bases_import\\congl_financeiros_demonstracao_resultado_import.csv\n",
      "bases_import\\congl_financeiros_passivo_import.csv\n",
      "bases_import\\congl_financeiros_resumo_import.csv\n",
      "inst_individuais\n",
      "bases_import\\inst_individuais_ativo_import.csv\n",
      "bases_import\\inst_individuais_demonstracao_resultado_import.csv\n",
      "bases_import\\inst_individuais_passivo_import.csv\n",
      "bases_import\\inst_individuais_resumo_import.csv\n",
      "prud\n",
      "bases_import\\prud_ativo_import.csv\n",
      "bases_import\\prud_demonstracao_resultado_import.csv\n",
      "bases_import\\prud_informacoes_capital_import.csv\n",
      "bases_import\\prud_passivo_import.csv\n",
      "bases_import\\prud_resumo_import.csv\n",
      "bases_import\\prud_segmentacao_import.csv\n"
     ]
    }
   ],
   "source": [
    "for tipo_relatorio in tipos_relatorios:\n",
    "    print(tipo_relatorio)\n",
    "    for file_name in os.listdir(folder_path):\n",
    "        dfs = []\n",
    "        if file_name.startswith(tipo_relatorio):\n",
    "            file_path = os.path.join(folder_path, file_name) \n",
    "            print(os.path.join(folder_path, file_name))"
   ]
  },
  {
   "cell_type": "code",
   "execution_count": 24,
   "metadata": {},
   "outputs": [],
   "source": [
    "# congl_financeiros\n",
    "file_name = 'congl_financeiros_ativo_import.csv'\n",
    "file_path = os.path.join('bases_import', file_name)\n",
    "df1 = pd.read_csv(file_path, sep=\";\", low_memory=False)\n",
    "\n",
    "file_name = 'congl_financeiros_demonstracao_resultado_import.csv'\n",
    "file_path = os.path.join('bases_import', file_name)\n",
    "df2 = pd.read_csv(file_path, sep=\";\", low_memory=False)\n",
    "\n",
    "file_name = 'congl_financeiros_passivo_import.csv'\n",
    "file_path = os.path.join('bases_import', file_name)\n",
    "df3 = pd.read_csv(file_path, sep=\";\", low_memory=False)\n",
    "\n",
    "file_name = 'congl_financeiros_resumo_import.csv'\n",
    "file_path = os.path.join('bases_import', file_name)\n",
    "df4 = pd.read_csv(file_path, sep=\";\", low_memory=False)"
   ]
  },
  {
   "cell_type": "code",
   "execution_count": 25,
   "metadata": {},
   "outputs": [],
   "source": [
    "# Merging the dataframes                       \n",
    "df5 = pd.merge(df1, df2, how='inner', on=['co_if', 'dt_base'])"
   ]
  },
  {
   "cell_type": "code",
   "execution_count": 26,
   "metadata": {},
   "outputs": [
    {
     "data": {
      "text/plain": [
       "Unnamed: 0_x                                       144197\n",
       "nome_if_x                                          144197\n",
       "co_if                                              144197\n",
       "tp_consolidado_bancario_x                          144197\n",
       "segmento_x                                          15095\n",
       "tp_consolidacao_x                                   59506\n",
       "tp_controle_x                                      144197\n",
       "cidade_x                                           144182\n",
       "uf_x                                               144182\n",
       "dt_base                                            144197\n",
       "depositos_vista                                    144197\n",
       "depositos_poupanca                                  59506\n",
       "depositos_interfinanceiros                          59506\n",
       "depositos_prazo                                    144197\n",
       "outros_depositos                                   144197\n",
       "deposito_total                                     144197\n",
       "obrigacoes_operacoes_compromissadas                144197\n",
       "letras_credito_imobiliario                         144197\n",
       "letras_credito_agronegocio                         144197\n",
       "letras_financeiras                                 144197\n",
       "obrigacoes_titulos_valores_mobiliarios_exterior    144197\n",
       "outros_recursos_aceites_emissao_titulos            144197\n",
       "recursos_aceites_emissao_titulos                   144197\n",
       "obrigacoes_emprestimos_repasses                    144197\n",
       "captacoes_x                                        144197\n",
       "instrumentos_derivativos                           144197\n",
       "outras_obrigacoes                                  144197\n",
       "passivo_circulante_exigivel_longo_prazo_x          144197\n",
       "resultado_exercicios_futuros                       144197\n",
       "patrimonio_liquido_x                               144197\n",
       "passivo_total                                      144197\n",
       "conglomerado_x                                      12352\n",
       "conglomerado_financeiro_x                           12352\n",
       "conglomerado_prudencial_x                               0\n",
       "ti_x                                                84691\n",
       "Unnamed: 0_y                                       144197\n",
       "nome_if_y                                          144197\n",
       "tp_consolidado_bancario_y                          144197\n",
       "segmento_y                                          15095\n",
       "tp_consolidacao_y                                   59506\n",
       "tp_controle_y                                      144197\n",
       "cidade_y                                           144182\n",
       "uf_y                                               144182\n",
       "ativo_total                                        144197\n",
       "carteira_credito_classificada                      144197\n",
       "passivo_circulante_exigivel_longo_prazo_y          144197\n",
       "captacoes_y                                        144197\n",
       "patrimonio_liquido_y                               144197\n",
       "lucro_liquido                                      144197\n",
       "nu_agencias                                        144197\n",
       "nu_postos_atendimento                              144197\n",
       "Unnamed: 17                                             0\n",
       "patrimonio_referencia                               26524\n",
       "ic_basileia                                         26877\n",
       "ic_imobilizacao                                     26877\n",
       "conglomerado_y                                      12352\n",
       "conglomerado_financeiro_y                           12352\n",
       "conglomerado_prudencial_y                               0\n",
       "ti_y                                                84691\n",
       "dtype: int64"
      ]
     },
     "execution_count": 26,
     "metadata": {},
     "output_type": "execute_result"
    }
   ],
   "source": [
    "# Merging the dataframes\n",
    "df6 = pd.merge(df3, df4, how='inner', on=['co_if', 'dt_base'])\n",
    "len(df6)"
   ]
  },
  {
   "cell_type": "code",
   "execution_count": null,
   "metadata": {},
   "outputs": [],
   "source": [
    "# Mergind the final dataframe\n",
    "df = pd.merge(df5, df6, how='inner', on=['co_if', 'dt_base'])\n",
    "df.count()"
   ]
  }
 ],
 "metadata": {
  "kernelspec": {
   "display_name": "Python 3",
   "language": "python",
   "name": "python3"
  },
  "language_info": {
   "codemirror_mode": {
    "name": "ipython",
    "version": 3
   },
   "file_extension": ".py",
   "mimetype": "text/x-python",
   "name": "python",
   "nbconvert_exporter": "python",
   "pygments_lexer": "ipython3",
   "version": "3.7.5"
  }
 },
 "nbformat": 4,
 "nbformat_minor": 4
}
