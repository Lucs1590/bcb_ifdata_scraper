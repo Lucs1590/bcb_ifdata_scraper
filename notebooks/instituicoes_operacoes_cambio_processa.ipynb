{
 "cells": [
  {
   "cell_type": "code",
   "execution_count": 1,
   "metadata": {},
   "outputs": [],
   "source": [
    "import os\n",
    "import shutil\n",
    "import pandas as pd"
   ]
  },
  {
   "cell_type": "code",
   "execution_count": 2,
   "metadata": {},
   "outputs": [],
   "source": [
    "download_folder = os.path.join('downloads', 'instituicoes_operacoes_cambio')"
   ]
  },
  {
   "cell_type": "code",
   "execution_count": 3,
   "metadata": {},
   "outputs": [],
   "source": [
    "instituicoes_operacoes_cambio_resumo_relatorios = []\n",
    "\n",
    "for file_name in sorted(os.listdir(download_folder)):\n",
    "    file_path = os.path.join(download_folder, file_name)\n",
    "        \n",
    "    if not file_path.endswith('.csv'):\n",
    "        continue\n",
    "\n",
    "    if 'movimentacao_cambio' in file_name:\n",
    "        instituicoes_operacoes_cambio_resumo_relatorios.append(file_path)        \n",
    "        \n",
    "    data_base = file_name[:7]\n",
    "    ano = file_name.split('_')[0]\n",
    "    trimestre = file_name.split('_')[1]\n",
    "    relatorio = file_name.split('_')[3]\n",
    "    restante_arquivo = file_name[7:]\n",
    "    \n",
    "    #print(ano, trimestre, relatorio, restante_arquivo)"
   ]
  },
  {
   "cell_type": "code",
   "execution_count": 4,
   "metadata": {},
   "outputs": [
    {
     "name": "stdout",
     "output_type": "stream",
     "text": [
      "(3279, 33)\n",
      "Index(['Instituição financeira', 'Código', 'TCB', 'TD', 'TC', 'Segmento',\n",
      "       'Cidade', 'UF', 'Data', 'Exportações', 'Unnamed: 10', 'Importações',\n",
      "       'Unnamed: 12', 'Total Primário Comercial', 'Unnamed: 14',\n",
      "       'Transferências do Exterior', 'Unnamed: 16',\n",
      "       'Transferências para o Exterior', 'Unnamed: 18',\n",
      "       'Total Primário Financeiro', 'Unnamed: 20', 'Total Primário',\n",
      "       'Unnamed: 22', 'Interbancário Compra', 'Unnamed: 24',\n",
      "       'Interbancário Venda', 'Unnamed: 26', 'Total Interbancário',\n",
      "       'Unnamed: 28', 'Total', 'Unnamed: 30', 'Unnamed: 31', 'SR'],\n",
      "      dtype='object')\n"
     ]
    }
   ],
   "source": [
    "# relatórios\n",
    "dfs = []\n",
    "for file_path in sorted(instituicoes_operacoes_cambio_resumo_relatorios):\n",
    "    #print(file_path)\n",
    "    df = pd.read_csv(file_path, sep=\";\")\n",
    "    dfs.append(df)\n",
    "\n",
    "df = pd.concat(dfs, axis=0, ignore_index=True)\n",
    "print(df.shape)\n",
    "print(df.columns)\n",
    "\n",
    "df.to_csv('instituicoes_operacoes_cambio_resumo_relatorios.csv')"
   ]
  }
 ],
 "metadata": {
  "kernelspec": {
   "display_name": "Python 3",
   "language": "python",
   "name": "python3"
  },
  "language_info": {
   "codemirror_mode": {
    "name": "ipython",
    "version": 3
   },
   "file_extension": ".py",
   "mimetype": "text/x-python",
   "name": "python",
   "nbconvert_exporter": "python",
   "pygments_lexer": "ipython3",
   "version": "3.7.6"
  }
 },
 "nbformat": 4,
 "nbformat_minor": 4
}
