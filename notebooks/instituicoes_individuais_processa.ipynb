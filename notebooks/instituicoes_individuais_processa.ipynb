{
 "cells": [
  {
   "cell_type": "code",
   "execution_count": 23,
   "metadata": {},
   "outputs": [],
   "source": [
    "import os\n",
    "import shutil\n",
    "import pandas as pd"
   ]
  },
  {
   "cell_type": "code",
   "execution_count": 24,
   "metadata": {},
   "outputs": [],
   "source": [
    "download_folder = os.path.join('downloads', 'instituicoes_individuais')"
   ]
  },
  {
   "cell_type": "code",
   "execution_count": 25,
   "metadata": {},
   "outputs": [],
   "source": [
    "instituicoes_individuais_resumo_relatorios = []\n",
    "instituicoes_individuais_segmentacao_relatorios = []\n",
    "instituicoes_individuais_ativo_relatorios = []\n",
    "instituicoes_individuais_passivo_relatorios = []\n",
    "instituicoes_individuais_informacoes_capital_relatorios = []\n",
    "instituicoes_individuais_demonstracao_resultado_relatorios = []\n",
    "\n",
    "\n",
    "for file_name in sorted(os.listdir(download_folder)):\n",
    "    file_path = os.path.join(download_folder, file_name)\n",
    "        \n",
    "    if not file_path.endswith('.csv'):\n",
    "        continue\n",
    "\n",
    "    if 'resumo' in file_name:\n",
    "        instituicoes_individuais_resumo_relatorios.append(file_path)        \n",
    "        \n",
    "    if 'ativo' in file_name:\n",
    "        instituicoes_individuais_ativo_relatorios.append(file_path)        \n",
    "        \n",
    "    if 'passivo' in file_name:\n",
    "        instituicoes_individuais_passivo_relatorios.append(file_path)\n",
    "\n",
    "    if 'demonstracao_de_resultado' in file_name:\n",
    "        instituicoes_individuais_demonstracao_resultado_relatorios.append(file_path)\n",
    "        \n",
    "    data_base = file_name[:7]\n",
    "    ano = file_name.split('_')[0]\n",
    "    trimestre = file_name.split('_')[1]\n",
    "    relatorio = file_name.split('_')[3]\n",
    "    restante_arquivo = file_name[7:]\n",
    "    \n",
    "    #print(ano, trimestre, relatorio, restante_arquivo)"
   ]
  },
  {
   "cell_type": "code",
   "execution_count": 26,
   "metadata": {},
   "outputs": [
    {
     "name": "stdout",
     "output_type": "stream",
     "text": [
      "(156478, 20)\n",
      "Index(['Instituição financeira', 'Código', 'Conglomerado',\n",
      "       'Conglomerado Financeiro', 'Conglomerado Prudencial', 'TCB', 'TC', 'TI',\n",
      "       'Cidade', 'UF', 'Data', 'Ativo Total',\n",
      "       'Carteira de Crédito Classificada',\n",
      "       'Passivo Circulante e Exigível a Longo Prazo e Resultados de Exercícios Futuros',\n",
      "       'Captações', 'Patrimônio Líquido', 'Lucro Líquido',\n",
      "       'Número de Agências', 'Número de Postos de Atendimento', 'Unnamed: 19'],\n",
      "      dtype='object')\n"
     ]
    }
   ],
   "source": [
    "# relatórios\n",
    "dfs = []\n",
    "for file_path in sorted(instituicoes_individuais_resumo_relatorios):\n",
    "    #print(file_path)\n",
    "    df = pd.read_csv(file_path, sep=\";\")\n",
    "    dfs.append(df)\n",
    "\n",
    "df = pd.concat(dfs, axis=0, ignore_index=True)\n",
    "print(df.shape)\n",
    "print(df.columns)\n",
    "\n",
    "df.to_csv('instituicoes_individuais_resumo_relatorios.csv')"
   ]
  },
  {
   "cell_type": "code",
   "execution_count": 27,
   "metadata": {},
   "outputs": [
    {
     "name": "stdout",
     "output_type": "stream",
     "text": [
      "(156557, 29)\n",
      "Index(['Instituição financeira', 'Código', 'Conglomerado',\n",
      "       'Conglomerado Financeiro', 'Conglomerado Prudencial', 'TCB', 'TC', 'TI',\n",
      "       'Cidade', 'UF', 'Data', 'Disponibilidades (a)',\n",
      "       'Aplicações Interfinanceiras de Liquidez (b)',\n",
      "       'TVM e Instrumentos Financeiros Derivativos (c)',\n",
      "       'Operações de Crédito', 'Unnamed: 15', 'Unnamed: 16',\n",
      "       'Arrendamento Mercantil', 'Unnamed: 18', 'Unnamed: 19', 'Unnamed: 20',\n",
      "       'Unnamed: 21', 'Outros Créditos - Líquido de Provisão (f)',\n",
      "       'Outros Ativos Realizáveis (g)', 'Permanente Ajustado (h)',\n",
      "       'Ativo Total Ajustado (i) = (a) + (b) + (c) + (d) + (e) + (f) + (g) + (h)',\n",
      "       'Credores por Antecipação de Valor Residual (j)',\n",
      "       'Ativo Total (k) = (i) - (j)', 'Unnamed: 28'],\n",
      "      dtype='object')\n"
     ]
    }
   ],
   "source": [
    "# relatórios\n",
    "dfs = []\n",
    "for file_path in sorted(instituicoes_individuais_ativo_relatorios):\n",
    "    #print(file_path)\n",
    "    df = pd.read_csv(file_path, sep=\";\")\n",
    "    dfs.append(df)\n",
    "\n",
    "df = pd.concat(dfs, axis=0, ignore_index=True)\n",
    "print(df.shape)\n",
    "print(df.columns)\n",
    "\n",
    "df.to_csv('instituicoes_individuais_ativo_relatorios.csv')"
   ]
  },
  {
   "cell_type": "code",
   "execution_count": 28,
   "metadata": {},
   "outputs": [
    {
     "name": "stdout",
     "output_type": "stream",
     "text": [
      "(156636, 33)\n",
      "Index(['Instituição financeira', 'Código', 'Conglomerado',\n",
      "       'Conglomerado Financeiro', 'Conglomerado Prudencial', 'TCB', 'TC', 'TI',\n",
      "       'Cidade', 'UF', 'Data', 'Captações', 'Unnamed: 12', 'Unnamed: 13',\n",
      "       'Unnamed: 14', 'Unnamed: 15', 'Unnamed: 16', 'Unnamed: 17',\n",
      "       'Unnamed: 18', 'Unnamed: 19', 'Unnamed: 20', 'Unnamed: 21',\n",
      "       'Unnamed: 22', 'Unnamed: 23', 'Unnamed: 24', 'Unnamed: 25',\n",
      "       'Instrumentos Derivativos (f)', 'Outras Obrigações (g)',\n",
      "       'Passivo Circulante e Exigível a Longo Prazo (h) = (e) + (f) + (g)',\n",
      "       'Resultados de Exercícios Futuros (i)', 'Patrimônio Líquido (j)',\n",
      "       'Passivo Total (k) = (h) + (i) + (j)', 'Unnamed: 32'],\n",
      "      dtype='object')\n"
     ]
    }
   ],
   "source": [
    "# relatórios\n",
    "dfs = []\n",
    "for file_path in sorted(instituicoes_individuais_passivo_relatorios):\n",
    "    #print(file_path)\n",
    "    df = pd.read_csv(file_path, sep=\";\")\n",
    "    dfs.append(df)\n",
    "\n",
    "df = pd.concat(dfs, axis=0, ignore_index=True)\n",
    "print(df.shape)\n",
    "print(df.columns)\n",
    "\n",
    "df.to_csv('instituicoes_individuais_passivo_relatorios.csv')"
   ]
  },
  {
   "cell_type": "code",
   "execution_count": 29,
   "metadata": {},
   "outputs": [
    {
     "name": "stdout",
     "output_type": "stream",
     "text": [
      "(156636, 43)\n",
      "Index(['Instituição financeira', 'Código', 'Conglomerado',\n",
      "       'Conglomerado Financeiro', 'Conglomerado Prudencial', 'TCB', 'TC', 'TI',\n",
      "       'Cidade', 'UF', 'Data', 'Resultado de Intermediação Financeira',\n",
      "       'Unnamed: 12', 'Unnamed: 13', 'Unnamed: 14', 'Unnamed: 15',\n",
      "       'Unnamed: 16', 'Unnamed: 17', 'Unnamed: 18', 'Unnamed: 19',\n",
      "       'Unnamed: 20', 'Unnamed: 21', 'Unnamed: 22', 'Unnamed: 23',\n",
      "       'Unnamed: 24', 'Outras Receitas/Despesas Operacionais', 'Unnamed: 26',\n",
      "       'Unnamed: 27', 'Unnamed: 28', 'Unnamed: 29', 'Unnamed: 30',\n",
      "       'Unnamed: 31', 'Unnamed: 32', 'Unnamed: 33',\n",
      "       'Resultado Operacional (e) = (c) + (d)',\n",
      "       'Resultado Não Operacional (f)',\n",
      "       'Resultado antes da Tributação, Lucro e Participação (g) = (e) + (f)',\n",
      "       'Imposto de Renda e Contribuição Social (h)',\n",
      "       'Participação nos Lucros (i)', 'Lucro Líquido (j) = (g) + (h) + (i)',\n",
      "       'Juros Sobre Capital Próprio (k)', 'Unnamed: 41',\n",
      "       'Juros Sobre Capital Social de Cooperativas (k)'],\n",
      "      dtype='object')\n"
     ]
    }
   ],
   "source": [
    "# relatórios\n",
    "dfs = []\n",
    "for file_path in sorted(instituicoes_individuais_demonstracao_resultado_relatorios):\n",
    "    #print(file_path)\n",
    "    df = pd.read_csv(file_path, sep=\";\")\n",
    "    dfs.append(df)\n",
    "\n",
    "df = pd.concat(dfs, axis=0, ignore_index=True)\n",
    "print(df.shape)\n",
    "print(df.columns)\n",
    "\n",
    "df.to_csv('instituicoes_individuais_demonstracao_resultado_relatorios.csv')"
   ]
  },
  {
   "cell_type": "code",
   "execution_count": null,
   "metadata": {},
   "outputs": [],
   "source": []
  }
 ],
 "metadata": {
  "kernelspec": {
   "display_name": "Python 3",
   "language": "python",
   "name": "python3"
  },
  "language_info": {
   "codemirror_mode": {
    "name": "ipython",
    "version": 3
   },
   "file_extension": ".py",
   "mimetype": "text/x-python",
   "name": "python",
   "nbconvert_exporter": "python",
   "pygments_lexer": "ipython3",
   "version": "3.7.6"
  }
 },
 "nbformat": 4,
 "nbformat_minor": 4
}
