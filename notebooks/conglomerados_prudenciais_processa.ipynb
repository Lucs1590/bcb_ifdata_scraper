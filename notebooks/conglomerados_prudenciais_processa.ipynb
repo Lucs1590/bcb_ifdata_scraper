{
 "cells": [
  {
   "cell_type": "code",
   "execution_count": 69,
   "metadata": {},
   "outputs": [],
   "source": [
    "import os\n",
    "import shutil\n",
    "import pandas as pd"
   ]
  },
  {
   "cell_type": "code",
   "execution_count": 70,
   "metadata": {},
   "outputs": [],
   "source": [
    "download_folder = os.path.join('downloads', 'conglomerados_prudenciais')"
   ]
  },
  {
   "cell_type": "code",
   "execution_count": 71,
   "metadata": {},
   "outputs": [],
   "source": [
    "prudenciais_resumo_relatorios = []\n",
    "prudenciais_segmentacao_relatorios = []\n",
    "prudenciais_ativo_relatorios = []\n",
    "prudenciais_passivo_relatorios = []\n",
    "prudenciais_informacoes_capital_relatorios = []\n",
    "prudenciais_demonstracao_resultado_relatorios = []\n",
    "\n",
    "\n",
    "for file_name in sorted(os.listdir(download_folder)):\n",
    "    file_path = os.path.join(download_folder, file_name)\n",
    "        \n",
    "    if not file_path.endswith('.csv'):\n",
    "        continue\n",
    "\n",
    "    if 'segmentacao' in file_name:\n",
    "        prudenciais_segmentacao_relatorios.append(file_path)\n",
    "\n",
    "    if 'resumo' in file_name:\n",
    "        prudenciais_resumo_relatorios.append(file_path)        \n",
    "        \n",
    "    if 'ativo' in file_name:\n",
    "        prudenciais_ativo_relatorios.append(file_path)        \n",
    "        \n",
    "    if 'passivo' in file_name:\n",
    "        prudenciais_passivo_relatorios.append(file_path)\n",
    "\n",
    "    if 'informacoes_de_capital' in file_name:\n",
    "        prudenciais_informacoes_capital_relatorios.append(file_path)        \n",
    "        \n",
    "    if 'demonstracao_de_resultado' in file_name:\n",
    "        prudenciais_demonstracao_resultado_relatorios.append(file_path)\n",
    "        \n",
    "    data_base = file_name[:7]\n",
    "    ano = file_name.split('_')[0]\n",
    "    trimestre = file_name.split('_')[1]\n",
    "    relatorio = file_name.split('_')[3]\n",
    "    restante_arquivo = file_name[7:]\n",
    "    \n",
    "    #print(ano, trimestre, relatorio, restante_arquivo)"
   ]
  },
  {
   "cell_type": "code",
   "execution_count": 72,
   "metadata": {},
   "outputs": [
    {
     "name": "stdout",
     "output_type": "stream",
     "text": [
      "(36069, 22)\n",
      "Index(['Instituição financeira', 'Código', 'TCB', 'SR', 'TD', 'TC', 'Cidade',\n",
      "       'UF', 'Data', 'Ativo Total', 'Carteira de Crédito Classificada',\n",
      "       'Passivo Circulante e Exigível a Longo Prazo e Resultados de Exercícios Futuros',\n",
      "       'Captações', 'Patrimônio Líquido', 'Lucro Líquido',\n",
      "       'Patrimônio de Referência para Comparação com o RWA',\n",
      "       'Índice de Basileia', 'Índice de Imobilização', 'Número de Agências',\n",
      "       'Número de Postos de Atendimento', 'Unnamed: 20', 'Unnamed: 17'],\n",
      "      dtype='object')\n"
     ]
    }
   ],
   "source": [
    "# relatórios\n",
    "dfs = []\n",
    "for file_path in sorted(prudenciais_resumo_relatorios):\n",
    "    #print(file_path)\n",
    "    df = pd.read_csv(file_path, sep=\";\")\n",
    "    dfs.append(df)\n",
    "\n",
    "df = pd.concat(dfs, axis=0, ignore_index=True)\n",
    "print(df.shape)\n",
    "print(df.columns)\n",
    "\n",
    "df.to_csv('prudenciais_resumo_relatorios.csv')"
   ]
  },
  {
   "cell_type": "code",
   "execution_count": 73,
   "metadata": {},
   "outputs": [
    {
     "name": "stdout",
     "output_type": "stream",
     "text": [
      "(15515, 16)\n",
      "Index(['Instituição financeira', 'Código', 'TCB', 'TD', 'TC', 'Cidade', 'UF',\n",
      "       'Data', 'Instituição Sujeita à Apuração da Exposição Total',\n",
      "       'Instituição Sujeita à Apuração do Patrimônio de Referência',\n",
      "       'Instituição Utiliza Metodologia Simplificada',\n",
      "       'Exposição Total ou Ativo Total (R$ mil)',\n",
      "       'Total de Ativos Consolidados no Exterior (US$ mil)',\n",
      "       'Data da Última Alteração de Segmento', 'SR', 'Unnamed: 15'],\n",
      "      dtype='object')\n"
     ]
    }
   ],
   "source": [
    "# relatórios\n",
    "dfs = []\n",
    "for file_path in sorted(prudenciais_segmentacao_relatorios):\n",
    "    #print(file_path)\n",
    "    df = pd.read_csv(file_path, sep=\";\")\n",
    "    dfs.append(df)\n",
    "\n",
    "df = pd.concat(dfs, axis=0, ignore_index=True)\n",
    "print(df.shape)\n",
    "print(df.columns)\n",
    "\n",
    "df.to_csv('prudenciais_segmentacao_relatorios.csv')"
   ]
  },
  {
   "cell_type": "code",
   "execution_count": 74,
   "metadata": {},
   "outputs": [
    {
     "name": "stdout",
     "output_type": "stream",
     "text": [
      "(62663, 27)\n",
      "Index(['Instituição financeira', 'Código', 'TCB', 'SR', 'TD', 'TC', 'Cidade',\n",
      "       'UF', 'Data', 'Disponibilidades (a)',\n",
      "       'Aplicações Interfinanceiras de Liquidez (b)',\n",
      "       'TVM e Instrumentos Financeiros Derivativos (c)',\n",
      "       'Operações de Crédito', 'Unnamed: 13', 'Unnamed: 14',\n",
      "       'Arrendamento Mercantil', 'Unnamed: 16', 'Unnamed: 17', 'Unnamed: 18',\n",
      "       'Unnamed: 19', 'Outros Créditos - Líquido de Provisão (f)',\n",
      "       'Outros Ativos Realizáveis (g)', 'Permanente Ajustado (h)',\n",
      "       'Ativo Total Ajustado (i) = (a) + (b) + (c) + (d) + (e) + (f) + (g) + (h)',\n",
      "       'Credores por Antecipação de Valor Residual (j)',\n",
      "       'Ativo Total (k) = (i) - (j)', 'Unnamed: 26'],\n",
      "      dtype='object')\n"
     ]
    }
   ],
   "source": [
    "# relatórios\n",
    "dfs = []\n",
    "for file_path in sorted(prudenciais_ativo_relatorios):\n",
    "    #print(file_path)\n",
    "    df = pd.read_csv(file_path, sep=\";\")\n",
    "    dfs.append(df)\n",
    "\n",
    "df = pd.concat(dfs, axis=0, ignore_index=True)\n",
    "print(df.shape)\n",
    "print(df.columns)\n",
    "\n",
    "df.to_csv('prudenciais_ativo_relatorios.csv')"
   ]
  },
  {
   "cell_type": "code",
   "execution_count": 75,
   "metadata": {},
   "outputs": [
    {
     "name": "stdout",
     "output_type": "stream",
     "text": [
      "(60845, 31)\n",
      "Index(['Instituição financeira', 'Código', 'TCB', 'SR', 'TD', 'TC', 'Cidade',\n",
      "       'UF', 'Data', 'Captações', 'Unnamed: 10', 'Unnamed: 11', 'Unnamed: 12',\n",
      "       'Unnamed: 13', 'Unnamed: 14', 'Unnamed: 15', 'Unnamed: 16',\n",
      "       'Unnamed: 17', 'Unnamed: 18', 'Unnamed: 19', 'Unnamed: 20',\n",
      "       'Unnamed: 21', 'Unnamed: 22', 'Unnamed: 23',\n",
      "       'Instrumentos Derivativos (f)', 'Outras Obrigações (g)',\n",
      "       'Passivo Circulante e Exigível a Longo Prazo (h) = (e) + (f) + (g)',\n",
      "       'Resultados de Exercícios Futuros (i)', 'Patrimônio Líquido (j)',\n",
      "       'Passivo Total (k) = (h) + (i) + (j)', 'Unnamed: 30'],\n",
      "      dtype='object')\n"
     ]
    }
   ],
   "source": [
    "# relatórios\n",
    "dfs = []\n",
    "for file_path in sorted(prudenciais_passivo_relatorios):\n",
    "    #print(file_path)\n",
    "    df = pd.read_csv(file_path, sep=\";\")\n",
    "    dfs.append(df)\n",
    "\n",
    "df = pd.concat(dfs, axis=0, ignore_index=True)\n",
    "print(df.shape)\n",
    "print(df.columns)\n",
    "\n",
    "df.to_csv('prudenciais_passivo_relatorios.csv')"
   ]
  },
  {
   "cell_type": "code",
   "execution_count": 76,
   "metadata": {},
   "outputs": [
    {
     "name": "stdout",
     "output_type": "stream",
     "text": [
      "(54323, 29)\n",
      "Index(['Instituição financeira', 'Código', 'TCB', 'SR', 'TD', 'TC', 'Cidade',\n",
      "       'UF', 'Data', 'Patrimônio de Referência para Comparação com o RWA',\n",
      "       'Unnamed: 10', 'Unnamed: 11', 'Unnamed: 12', 'Unnamed: 13',\n",
      "       'Ativos Ponderados pelo Risco (RWA)', 'Unnamed: 15', 'Unnamed: 16',\n",
      "       'Unnamed: 17', 'Unnamed: 18', 'Unnamed: 19', 'Unnamed: 20',\n",
      "       'Unnamed: 21', 'Exposição Total (j)',\n",
      "       'Índice de Capital Principal (k) = (a) / (i)',\n",
      "       'Índice de Capital Nível I (l) = (c) / (i)',\n",
      "       'Índice de Basileia (m) = (e) / (i)',\n",
      "       'Razão de Alavancagem (n) = (c) / (j)', 'Índice de Imobilização (o)',\n",
      "       'Unnamed: 28'],\n",
      "      dtype='object')\n"
     ]
    }
   ],
   "source": [
    "# relatórios\n",
    "dfs = []\n",
    "for file_path in sorted(prudenciais_informacoes_capital_relatorios):\n",
    "    #print(file_path)\n",
    "    df = pd.read_csv(file_path, sep=\";\")\n",
    "    dfs.append(df)\n",
    "\n",
    "df = pd.concat(dfs, axis=0, ignore_index=True)\n",
    "print(df.shape)\n",
    "print(df.columns)\n",
    "\n",
    "df.to_csv('prudenciais_informacoes_capital_relatorios.csv')"
   ]
  },
  {
   "cell_type": "code",
   "execution_count": 77,
   "metadata": {},
   "outputs": [
    {
     "name": "stdout",
     "output_type": "stream",
     "text": [
      "(60845, 41)\n",
      "Index(['Instituição financeira', 'Código', 'TCB', 'SR', 'TD', 'TC', 'Cidade',\n",
      "       'UF', 'Data', 'Resultado de Intermediação Financeira', 'Unnamed: 10',\n",
      "       'Unnamed: 11', 'Unnamed: 12', 'Unnamed: 13', 'Unnamed: 14',\n",
      "       'Unnamed: 15', 'Unnamed: 16', 'Unnamed: 17', 'Unnamed: 18',\n",
      "       'Unnamed: 19', 'Unnamed: 20', 'Unnamed: 21', 'Unnamed: 22',\n",
      "       'Outras Receitas/Despesas Operacionais', 'Unnamed: 24', 'Unnamed: 25',\n",
      "       'Unnamed: 26', 'Unnamed: 27', 'Unnamed: 28', 'Unnamed: 29',\n",
      "       'Unnamed: 30', 'Unnamed: 31', 'Resultado Operacional (e) = (c) + (d)',\n",
      "       'Resultado Não Operacional (f)',\n",
      "       'Resultado antes da Tributação, Lucro e Participação (g) = (e) + (f)',\n",
      "       'Imposto de Renda e Contribuição Social (h)',\n",
      "       'Participação nos Lucros (i)', 'Lucro Líquido (j) = (g) + (h) + (i)',\n",
      "       'Juros Sobre Capital Próprio (k)', 'Unnamed: 39',\n",
      "       'Juros Sobre Capital Social de Cooperativas (k)'],\n",
      "      dtype='object')\n"
     ]
    }
   ],
   "source": [
    "# relatórios\n",
    "dfs = []\n",
    "for file_path in sorted(prudenciais_demonstracao_resultado_relatorios):\n",
    "    #print(file_path)\n",
    "    df = pd.read_csv(file_path, sep=\";\")\n",
    "    dfs.append(df)\n",
    "\n",
    "df = pd.concat(dfs, axis=0, ignore_index=True)\n",
    "print(df.shape)\n",
    "print(df.columns)\n",
    "\n",
    "df.to_csv('prudenciais_demonstracao_resultado_relatorios.csv')"
   ]
  },
  {
   "cell_type": "code",
   "execution_count": null,
   "metadata": {},
   "outputs": [],
   "source": []
  }
 ],
 "metadata": {
  "kernelspec": {
   "display_name": "Python 3",
   "language": "python",
   "name": "python3"
  },
  "language_info": {
   "codemirror_mode": {
    "name": "ipython",
    "version": 3
   },
   "file_extension": ".py",
   "mimetype": "text/x-python",
   "name": "python",
   "nbconvert_exporter": "python",
   "pygments_lexer": "ipython3",
   "version": "3.7.6"
  }
 },
 "nbformat": 4,
 "nbformat_minor": 4
}
