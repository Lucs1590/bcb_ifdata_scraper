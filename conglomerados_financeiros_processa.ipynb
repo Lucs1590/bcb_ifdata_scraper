{
 "cells": [
  {
   "cell_type": "code",
   "execution_count": 8,
   "metadata": {},
   "outputs": [],
   "source": [
    "import os\n",
    "import shutil\n",
    "import pandas as pd"
   ]
  },
  {
   "cell_type": "code",
   "execution_count": 9,
   "metadata": {},
   "outputs": [],
   "source": [
    "download_folder = os.path.join('downloads', 'conglomerados_financeiros')"
   ]
  },
  {
   "cell_type": "code",
   "execution_count": 10,
   "metadata": {},
   "outputs": [],
   "source": [
    "conglomerados_financeiros_resumo_relatorios = []\n",
    "conglomerados_financeiros_segmentacao_relatorios = []\n",
    "conglomerados_financeiros_ativo_relatorios = []\n",
    "conglomerados_financeiros_passivo_relatorios = []\n",
    "conglomerados_financeiros_informacoes_capital_relatorios = []\n",
    "conglomerados_financeiros_demonstracao_resultado_relatorios = []\n",
    "\n",
    "\n",
    "for file_name in sorted(os.listdir(download_folder)):\n",
    "    file_path = os.path.join(download_folder, file_name)\n",
    "        \n",
    "    if not file_path.endswith('.csv'):\n",
    "        continue\n",
    "\n",
    "    if 'resumo' in file_name:\n",
    "        conglomerados_financeiros_resumo_relatorios.append(file_path)        \n",
    "        \n",
    "    if 'ativo' in file_name:\n",
    "        conglomerados_financeiros_ativo_relatorios.append(file_path)        \n",
    "        \n",
    "    if 'passivo' in file_name:\n",
    "        conglomerados_financeiros_passivo_relatorios.append(file_path)\n",
    "\n",
    "    if 'demonstracao_de_resultado' in file_name:\n",
    "        conglomerados_financeiros_demonstracao_resultado_relatorios.append(file_path)\n",
    "        \n",
    "    data_base = file_name[:7]\n",
    "    ano = file_name.split('_')[0]\n",
    "    trimestre = file_name.split('_')[1]\n",
    "    relatorio = file_name.split('_')[3]\n",
    "    restante_arquivo = file_name[7:]\n",
    "    \n",
    "    #print(ano, trimestre, relatorio, restante_arquivo)"
   ]
  },
  {
   "cell_type": "code",
   "execution_count": 11,
   "metadata": {},
   "outputs": [
    {
     "name": "stdout",
     "output_type": "stream",
     "text": [
      "(148434, 27)\n",
      "Index(['Instituição financeira', 'Código', 'TCB', 'SR', 'TD', 'TC', 'Cidade',\n",
      "       'UF', 'Data', 'Ativo Total', 'Carteira de Crédito Classificada',\n",
      "       'Passivo Circulante e Exigível a Longo Prazo e Resultados de Exercícios Futuros',\n",
      "       'Captações', 'Patrimônio Líquido', 'Lucro Líquido',\n",
      "       'Número de Agências', 'Número de Postos de Atendimento', 'Unnamed: 17',\n",
      "       'Patrimônio de Referência para Comparação com o RWA',\n",
      "       'Índice de Basileia', 'Índice de Imobilização', 'Unnamed: 20',\n",
      "       'Conglomerado', 'Conglomerado Financeiro', 'Conglomerado Prudencial',\n",
      "       'TI', 'Unnamed: 19'],\n",
      "      dtype='object')\n"
     ]
    }
   ],
   "source": [
    "# relatórios\n",
    "dfs = []\n",
    "for file_path in sorted(conglomerados_financeiros_resumo_relatorios):\n",
    "    #print(file_path)\n",
    "    df = pd.read_csv(file_path, sep=\";\")\n",
    "    dfs.append(df)\n",
    "\n",
    "df = pd.concat(dfs, axis=0, ignore_index=True)\n",
    "print(df.shape)\n",
    "print(df.columns)\n",
    "\n",
    "df.to_csv('conglomerados_financeiros_resumo_relatorios.csv')"
   ]
  },
  {
   "cell_type": "code",
   "execution_count": 12,
   "metadata": {},
   "outputs": [
    {
     "name": "stdout",
     "output_type": "stream",
     "text": [
      "(148512, 35)\n",
      "Index(['Instituição financeira', 'Código', 'TCB', 'SR', 'TD', 'TC', 'Cidade',\n",
      "       'UF', 'Data', 'Disponibilidades (a)',\n",
      "       'Aplicações Interfinanceiras de Liquidez (b)',\n",
      "       'TVM e Instrumentos Financeiros Derivativos (c)',\n",
      "       'Operações de Crédito', 'Unnamed: 13', 'Unnamed: 14',\n",
      "       'Arrendamento Mercantil', 'Unnamed: 16', 'Unnamed: 17', 'Unnamed: 18',\n",
      "       'Unnamed: 19', 'Outros Créditos - Líquido de Provisão (f)',\n",
      "       'Outros Ativos Realizáveis (g)', 'Permanente Ajustado (h)',\n",
      "       'Ativo Total Ajustado (i) = (a) + (b) + (c) + (d) + (e) + (f) + (g) + (h)',\n",
      "       'Credores por Antecipação de Valor Residual (j)',\n",
      "       'Ativo Total (k) = (i) - (j)', 'Unnamed: 26', 'Conglomerado',\n",
      "       'Conglomerado Financeiro', 'Conglomerado Prudencial', 'TI',\n",
      "       'Unnamed: 15', 'Unnamed: 20', 'Unnamed: 21', 'Unnamed: 28'],\n",
      "      dtype='object')\n"
     ]
    }
   ],
   "source": [
    "# relatórios\n",
    "dfs = []\n",
    "for file_path in sorted(conglomerados_financeiros_ativo_relatorios):\n",
    "    #print(file_path)\n",
    "    df = pd.read_csv(file_path, sep=\";\")\n",
    "    dfs.append(df)\n",
    "\n",
    "df = pd.concat(dfs, axis=0, ignore_index=True)\n",
    "print(df.shape)\n",
    "print(df.columns)\n",
    "\n",
    "df.to_csv('conglomerados_financeiros_ativo_relatorios.csv')"
   ]
  },
  {
   "cell_type": "code",
   "execution_count": 13,
   "metadata": {},
   "outputs": [
    {
     "name": "stdout",
     "output_type": "stream",
     "text": [
      "(148591, 38)\n",
      "Index(['Instituição financeira', 'Código', 'TCB', 'SR', 'TD', 'TC', 'Cidade',\n",
      "       'UF', 'Data', 'Captações', 'Unnamed: 10', 'Unnamed: 11', 'Unnamed: 12',\n",
      "       'Unnamed: 13', 'Unnamed: 14', 'Unnamed: 15', 'Unnamed: 16',\n",
      "       'Unnamed: 17', 'Unnamed: 18', 'Unnamed: 19', 'Unnamed: 20',\n",
      "       'Unnamed: 21', 'Unnamed: 22', 'Unnamed: 23',\n",
      "       'Instrumentos Derivativos (f)', 'Outras Obrigações (g)',\n",
      "       'Passivo Circulante e Exigível a Longo Prazo (h) = (e) + (f) + (g)',\n",
      "       'Resultados de Exercícios Futuros (i)', 'Patrimônio Líquido (j)',\n",
      "       'Passivo Total (k) = (h) + (i) + (j)', 'Unnamed: 30', 'Conglomerado',\n",
      "       'Conglomerado Financeiro', 'Conglomerado Prudencial', 'TI',\n",
      "       'Unnamed: 24', 'Unnamed: 25', 'Unnamed: 32'],\n",
      "      dtype='object')\n"
     ]
    }
   ],
   "source": [
    "# relatórios\n",
    "dfs = []\n",
    "for file_path in sorted(conglomerados_financeiros_passivo_relatorios):\n",
    "    #print(file_path)\n",
    "    df = pd.read_csv(file_path, sep=\";\")\n",
    "    dfs.append(df)\n",
    "\n",
    "df = pd.concat(dfs, axis=0, ignore_index=True)\n",
    "print(df.shape)\n",
    "print(df.columns)\n",
    "\n",
    "df.to_csv('conglomerados_financeiros_passivo_relatorios.csv')"
   ]
  },
  {
   "cell_type": "code",
   "execution_count": 14,
   "metadata": {},
   "outputs": [
    {
     "name": "stdout",
     "output_type": "stream",
     "text": [
      "(148341, 49)\n",
      "Index(['Instituição financeira', 'Código', 'TCB', 'SR', 'TD', 'TC', 'Cidade',\n",
      "       'UF', 'Data', 'Resultado de Intermediação Financeira', 'Unnamed: 10',\n",
      "       'Unnamed: 11', 'Unnamed: 12', 'Unnamed: 13', 'Unnamed: 14',\n",
      "       'Unnamed: 15', 'Unnamed: 16', 'Unnamed: 17', 'Unnamed: 18',\n",
      "       'Unnamed: 19', 'Unnamed: 20', 'Unnamed: 21', 'Unnamed: 22',\n",
      "       'Outras Receitas/Despesas Operacionais', 'Unnamed: 24', 'Unnamed: 25',\n",
      "       'Unnamed: 26', 'Unnamed: 27', 'Unnamed: 28', 'Unnamed: 29',\n",
      "       'Unnamed: 30', 'Unnamed: 31', 'Resultado Operacional (e) = (c) + (d)',\n",
      "       'Resultado Não Operacional (f)',\n",
      "       'Resultado antes da Tributação, Lucro e Participação (g) = (e) + (f)',\n",
      "       'Imposto de Renda e Contribuição Social (h)',\n",
      "       'Participação nos Lucros (i)', 'Lucro Líquido (j) = (g) + (h) + (i)',\n",
      "       'Juros Sobre Capital Próprio (k)', 'Unnamed: 39', 'Conglomerado',\n",
      "       'Conglomerado Financeiro', 'Conglomerado Prudencial', 'TI',\n",
      "       'Unnamed: 23', 'Unnamed: 32', 'Unnamed: 33', 'Unnamed: 41',\n",
      "       'Juros Sobre Capital Social de Cooperativas (k)'],\n",
      "      dtype='object')\n"
     ]
    }
   ],
   "source": [
    "# relatórios\n",
    "dfs = []\n",
    "for file_path in sorted(conglomerados_financeiros_demonstracao_resultado_relatorios):\n",
    "    #print(file_path)\n",
    "    df = pd.read_csv(file_path, sep=\";\")\n",
    "    dfs.append(df)\n",
    "\n",
    "df = pd.concat(dfs, axis=0, ignore_index=True)\n",
    "print(df.shape)\n",
    "print(df.columns)\n",
    "\n",
    "df.to_csv('conglomerados_financeiros_demonstracao_resultado_relatorios.csv')"
   ]
  },
  {
   "cell_type": "code",
   "execution_count": null,
   "metadata": {},
   "outputs": [],
   "source": []
  }
 ],
 "metadata": {
  "kernelspec": {
   "display_name": "Python 3",
   "language": "python",
   "name": "python3"
  },
  "language_info": {
   "codemirror_mode": {
    "name": "ipython",
    "version": 3
   },
   "file_extension": ".py",
   "mimetype": "text/x-python",
   "name": "python",
   "nbconvert_exporter": "python",
   "pygments_lexer": "ipython3",
   "version": "3.7.6"
  }
 },
 "nbformat": 4,
 "nbformat_minor": 4
}
